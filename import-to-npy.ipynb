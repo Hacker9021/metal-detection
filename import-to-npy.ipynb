{
 "cells": [
  {
   "cell_type": "code",
   "execution_count": 1,
   "metadata": {},
   "outputs": [],
   "source": [
    "import os\n",
    "from PIL import Image\n",
    "import numpy as np"
   ]
  },
  {
   "cell_type": "code",
   "execution_count": 4,
   "metadata": {},
   "outputs": [],
   "source": [
    "folder_x = 'annotations\\\\training'\n",
    "folder_y = 'test_ground_truths'"
   ]
  },
  {
   "cell_type": "code",
   "execution_count": 5,
   "metadata": {},
   "outputs": [
    {
     "name": "stdout",
     "output_type": "stream",
     "text": [
      "Processing completed.\n"
     ]
    }
   ],
   "source": [
    "for filename in os.listdir(folder_x):\n",
    "\n",
    "    image_path = os.path.join(folder_x, filename)\n",
    "\n",
    "    image = Image.open(image_path)\n",
    "\n",
    "    pixel_values = np.array(image)\n",
    "\n",
    "    npy_path = os.path.join(folder_y, os.path.splitext(filename)[0] + '.npy')\n",
    "\n",
    "    np.save(npy_path, pixel_values)\n",
    "\n",
    "\n",
    "print(\"Processing completed.\")"
   ]
  }
 ],
 "metadata": {
  "kernelspec": {
   "display_name": "d2l",
   "language": "python",
   "name": "python3"
  },
  "language_info": {
   "codemirror_mode": {
    "name": "ipython",
    "version": 3
   },
   "file_extension": ".py",
   "mimetype": "text/x-python",
   "name": "python",
   "nbconvert_exporter": "python",
   "pygments_lexer": "ipython3",
   "version": "3.9.18"
  }
 },
 "nbformat": 4,
 "nbformat_minor": 2
}
